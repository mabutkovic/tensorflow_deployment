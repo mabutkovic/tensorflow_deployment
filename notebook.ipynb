{
 "cells": [
  {
   "cell_type": "markdown",
   "metadata": {},
   "source": [
    "# Assignment"
   ]
  },
  {
   "cell_type": "markdown",
   "metadata": {},
   "source": [
    "In a production process of bricks there are 4 sensors ( s1 ,s2 ,s3 ,s4 ) which monitor the quality of each product. It is known that the sensor outputs are in a complex\n",
    "relationship with two important characteristics of brick:\n",
    "\n",
    "● Compressive Strength ( c )\n",
    "\n",
    "● Flexure Strength ( f )\n",
    "\n",
    "Company ran some tests and measured those characteristics on a limited set of\n",
    "bricks. Data recorded from measurements and sensors is available in the file\n",
    "dataset.csv. Each row in the dataset contains 6 numbers s1 , s2 , s3 , s4 , c and f. \n",
    "want to predict a value of c and f in order to detect bricks which do not satisfy\n",
    "minimal required values. Prediction needs to work in real time, so performance of\n",
    "the system is important."
   ]
  },
  {
   "cell_type": "markdown",
   "metadata": {},
   "source": [
    "# Solution\n",
    "For the purpose of avoiding python/tensorflow version issues on the machine, a pre-prepared docker image was used as a development environment. The image is located here https://hub.docker.com/r/tensorflow/tensorflow/ and it is started with the command:\n",
    "docker run -it --rm -v notebooks:/tf/notebooks -p 8888:8888 tensorflow/tensorflow:latest-jupyter\n",
    "This image comes with python, tensorflow and jupyter notebook preinstalled."
   ]
  },
  {
   "cell_type": "markdown",
   "metadata": {},
   "source": [
    "## Task 1\n",
    "Train a neural network (Keras or Tensorflow) which is going to predict values of c and f based on outputs from sensors. Use just two hidden layers with 20 neurons and Mean Absolute Error (MAE) loss function."
   ]
  },
  {
   "cell_type": "markdown",
   "metadata": {},
   "source": [
    "First we install additional packages."
   ]
  },
  {
   "cell_type": "code",
   "execution_count": 120,
   "metadata": {},
   "outputs": [
    {
     "name": "stdout",
     "output_type": "stream",
     "text": [
      "\u001b[33mWARNING: You are using pip version 20.2.4; however, version 21.0.1 is available.\n",
      "You should consider upgrading via the '/usr/bin/python3 -m pip install --upgrade pip' command.\u001b[0m\n",
      "\u001b[33mWARNING: You are using pip version 20.2.4; however, version 21.0.1 is available.\n",
      "You should consider upgrading via the '/usr/bin/python3 -m pip install --upgrade pip' command.\u001b[0m\n",
      "\u001b[33mWARNING: You are using pip version 20.2.4; however, version 21.0.1 is available.\n",
      "You should consider upgrading via the '/usr/bin/python3 -m pip install --upgrade pip' command.\u001b[0m\n",
      "\u001b[33mWARNING: You are using pip version 20.2.4; however, version 21.0.1 is available.\n",
      "You should consider upgrading via the '/usr/bin/python3 -m pip install --upgrade pip' command.\u001b[0m\n"
     ]
    }
   ],
   "source": [
    "!pip install -q keras\n",
    "!pip install -q sklearn\n",
    "!pip install -q pandas\n",
    "!pip install -q seaborn"
   ]
  },
  {
   "cell_type": "markdown",
   "metadata": {},
   "source": [
    "Pyplot is included for generating charts, numpy for support functions and pandas to work with dataframes. mean_squared_error is also added to calculate the error later on to be able to compare different models. The assignment notes features as s but they are changed to x to differentiate between models in task4.\n",
    "The dataset is loaded from csv and split into training/test. The training and testing data is split into features and labels. A neural network is defined with two hidden layers, each with 20 neurons, and the final layer which will have two outputs. The loss function is \"mean absolute error\"."
   ]
  },
  {
   "cell_type": "code",
   "execution_count": 121,
   "metadata": {},
   "outputs": [
    {
     "name": "stdout",
     "output_type": "stream",
     "text": [
      "2.4.1\n"
     ]
    }
   ],
   "source": [
    "import matplotlib.pyplot as plt\n",
    "import numpy as np\n",
    "import pandas as pd\n",
    "import seaborn as sns\n",
    "from sklearn.metrics import mean_squared_error\n",
    "\n",
    "# Make numpy printouts easier to read.\n",
    "np.set_printoptions(precision=3, suppress=True)\n",
    "import tensorflow as tf\n",
    "\n",
    "from tensorflow import keras\n",
    "from tensorflow.keras import layers\n",
    "from tensorflow.keras.layers.experimental import preprocessing\n",
    "\n",
    "print(tf.__version__)\n",
    "\n",
    "column_names = ['x1', 'x2', 'x3', 'x4', 'c', 'f']\n",
    "raw_data = pd.read_csv(\"dataset.csv\", names=column_names, na_values='?')\n",
    "data = raw_data.copy()\n",
    "data.tail()\n",
    "\n",
    "train_data = data.sample(frac=0.8, random_state=0)\n",
    "test_data = data.drop(train_data.index)\n",
    "\n",
    "train_features = train_data.copy()\n",
    "test_features = test_data.copy()\n",
    "\n",
    "train_labels = train_features[['c', 'f']].copy()\n",
    "test_labels = test_features[['c', 'f']].copy()\n",
    "\n",
    "\n",
    "train_features.pop('c')\n",
    "train_features.pop('f')\n",
    "test_features.pop('c')\n",
    "test_features.pop('f')\n",
    "\n",
    "dnn_model = tf.keras.Sequential([\n",
    "\n",
    "      layers.Dense(20, activation='relu'),\n",
    "      layers.Dense(20, activation='relu'),\n",
    "      layers.Dense(2)\n",
    "  ])\n",
    "\n",
    "dnn_model.compile(loss='mean_absolute_error',\n",
    "                optimizer=tf.keras.optimizers.Adam(0.001))\n",
    "\n"
   ]
  },
  {
   "cell_type": "markdown",
   "metadata": {},
   "source": [
    "The model is trained in 100 epochs. 20% of the training data is reserved for validation."
   ]
  },
  {
   "cell_type": "code",
   "execution_count": 122,
   "metadata": {},
   "outputs": [
    {
     "name": "stdout",
     "output_type": "stream",
     "text": [
      "CPU times: user 9.19 s, sys: 907 ms, total: 10.1 s\n",
      "Wall time: 9.82 s\n"
     ]
    }
   ],
   "source": [
    "%%time\n",
    "history = dnn_model.fit(\n",
    "    train_features, train_labels,\n",
    "    validation_split=0.2,\n",
    "    verbose=0, epochs=100)"
   ]
  },
  {
   "cell_type": "markdown",
   "metadata": {},
   "source": [
    "The loss stabilizes around 80, 90. The training was tested with more epochs and validated, but 100 epochs was found as an optimal number between getting a good comparison on task 4 and not having overfitting."
   ]
  },
  {
   "cell_type": "code",
   "execution_count": 123,
   "metadata": {},
   "outputs": [
    {
     "data": {
      "image/png": "[encoded data removed]",
      "text/plain": [
       "<Figure size 432x288 with 1 Axes>"
      ]
     },
     "metadata": {
      "needs_background": "light"
     },
     "output_type": "display_data"
    }
   ],
   "source": [
    "def plot_loss(history):\n",
    "  plt.plot(history.history['loss'], label='loss')\n",
    "  plt.plot(history.history['val_loss'], label='val_loss')\n",
    "  plt.ylim([0, 10])\n",
    "  plt.xlabel('Epoch')\n",
    "  plt.ylabel('Error [MPG]')\n",
    "  plt.legend()\n",
    "  plt.grid(True)\n",
    "\n",
    "plot_loss(history)"
   ]
  },
  {
   "cell_type": "markdown",
   "metadata": {},
   "source": [
    "The model is evaluated on the test data. The overall loss is printed out to compare with results in task 4."
   ]
  },
  {
   "cell_type": "code",
   "execution_count": 124,
   "metadata": {},
   "outputs": [
    {
     "name": "stdout",
     "output_type": "stream",
     "text": [
      "2/2 [==============================] - 0s 3ms/step - loss: 3.1038\n"
     ]
    },
    {
     "data": {
      "text/plain": [
       "{'dnn_model': 3.1037964820861816}"
      ]
     },
     "execution_count": 124,
     "metadata": {},
     "output_type": "execute_result"
    }
   ],
   "source": [
    "test_results = {}\n",
    "\n",
    "test_results['dnn_model'] = dnn_model.evaluate(\n",
    "    test_features, test_labels, verbose=1)\n",
    "test_results"
   ]
  },
  {
   "cell_type": "markdown",
   "metadata": {},
   "source": [
    "The MSE on test data is calculated on two outputs separately, also to be compared with results in task 4."
   ]
  },
  {
   "cell_type": "code",
   "execution_count": 125,
   "metadata": {},
   "outputs": [
    {
     "name": "stdout",
     "output_type": "stream",
     "text": [
      "WARNING:tensorflow:6 out of the last 13 calls to <function Model.make_predict_function.<locals>.predict_function at 0x7f6573704730> triggered tf.function retracing. Tracing is expensive and the excessive number of tracings could be due to (1) creating @tf.function repeatedly in a loop, (2) passing tensors with different shapes, (3) passing Python objects instead of tensors. For (1), please define your @tf.function outside of the loop. For (2), @tf.function has experimental_relax_shapes=True option that relaxes argument shapes that can avoid unnecessary retracing. For (3), please refer to https://www.tensorflow.org/guide/function#controlling_retracing and https://www.tensorflow.org/api_docs/python/tf/function for  more details.\n",
      "c MSE:14.3489\n",
      "f MSE:12.7634\n"
     ]
    }
   ],
   "source": [
    "test_predictions = dnn_model.predict(test_features)\n",
    "print(\"c MSE:%.4f\" % mean_squared_error(test_labels['c'], test_predictions[:,0])) \n",
    "print(\"f MSE:%.4f\" % mean_squared_error(test_labels['f'], test_predictions[:,1]))"
   ]
  },
  {
   "cell_type": "markdown",
   "metadata": {},
   "source": [
    "Another plot is generated to show graphically how much is the prediction off the real test values. The dots are test data and the lines are predictions. "
   ]
  },
  {
   "cell_type": "code",
   "execution_count": 126,
   "metadata": {},
   "outputs": [
    {
     "data": {
      "image/png": "[encoded data removed]",
      "text/plain": [
       "<Figure size 432x288 with 1 Axes>"
      ]
     },
     "metadata": {
      "needs_background": "light"
     },
     "output_type": "display_data"
    }
   ],
   "source": [
    "x_ax = range(len(test_features))\n",
    "plt.scatter(x_ax, test_labels['c'],  s=6, label=\"c\")\n",
    "plt.plot(x_ax, test_predictions[:,0], label=\"cpred\")\n",
    "plt.scatter(x_ax, test_labels['f'],  s=6, label=\"f\")\n",
    "plt.plot(x_ax, test_predictions[:,1], label=\"fpred\")\n",
    "plt.legend()\n",
    "plt.show()"
   ]
  },
  {
   "cell_type": "markdown",
   "metadata": {},
   "source": [
    "The model is saved to be used for deployment in task 2."
   ]
  },
  {
   "cell_type": "code",
   "execution_count": 148,
   "metadata": {},
   "outputs": [
    {
     "name": "stdout",
     "output_type": "stream",
     "text": [
      "INFO:tensorflow:Assets written to: ./mymodel/assets\n"
     ]
    }
   ],
   "source": [
    "saved_model_path = dnn_model.save(f\"./mymodel\", save_format='tf')"
   ]
  },
  {
   "cell_type": "markdown",
   "metadata": {},
   "source": [
    "## Task 2\n",
    "Try to improve model accuracy and compare results with the initial version. You\n",
    "can assume that:\n",
    "\n",
    "$c = s_{1} + s_{2}^{2} + 2s_{4}$\n",
    "\n",
    "$f = s_{1} + s_{2}/2 + 3s_{4} + 30$\n",
    "\n",
    "Expected sensor values are:\n",
    "\n",
    "$s_{1} ∈[20, 50] s_{2} ∈ [0, 10], s_{3} ∈ [− 5, − 3], s_{4} ∈ [0, 1]$\n",
    "\n",
    "For example, you can generate additional training data.\n",
    "Create a new Docker image which is going to serve both models"
   ]
  },
  {
   "cell_type": "markdown",
   "metadata": {},
   "source": [
    "A new function is created to generate the data based on expected sensor values. The uniform method is used to generate random data. A 1000 new samples is created (a new training set is generated only, in order to be able to compare the model results on the testing set which is the same for both models). "
   ]
  },
  {
   "cell_type": "code",
   "execution_count": 130,
   "metadata": {},
   "outputs": [
    {
     "data": {
      "text/plain": [
       "array([[  8.217,  -4.569,   0.13 ,  45.334, 119.763, 171.935],\n",
       "       [  1.393,  -4.605,   0.908,  31.572,  85.739, 123.807],\n",
       "       [  2.908,  -4.859,   0.108,  34.171,  94.863, 132.991],\n",
       "       ...,\n",
       "       [  9.013,  -3.69 ,   0.36 ,  28.406,  79.443, 122.386],\n",
       "       [  7.385,  -3.545,   0.078,  26.531,  73.014, 115.206],\n",
       "       [  0.745,  -3.54 ,   0.564,  20.355,  53.989,  90.039]])"
      ]
     },
     "execution_count": 130,
     "metadata": {},
     "output_type": "execute_result"
    }
   ],
   "source": [
    "from numpy import array\n",
    "from numpy.random import uniform\n",
    "from numpy import hstack\n",
    "\n",
    "def create_data(n):\n",
    " s1 = array([uniform(0,10) for i in range(n)]).reshape(n,1)\n",
    " s2 = array([uniform(-5,-3) for i in range(n)]).reshape(n,1)\n",
    " s3 = array([uniform(0,1) for i in range(n)]).reshape(n,1)\n",
    " s4 = array([uniform(20,50) for i in range(n)]).reshape(n,1)\n",
    "\n",
    " c= [s1[i]+(s2[i]*s2[i])+2*s4[i] for i in range(n)]\n",
    " f= [s1[i]+s2[i]/2+3*s4[i]+30 for i in range(n)]\n",
    " X = hstack((s1, s2, s3, s4, c, f))\n",
    " return X\n",
    "\n",
    "new_data = create_data(n=1000)\n",
    "new_data"
   ]
  },
  {
   "cell_type": "code",
   "execution_count": 131,
   "metadata": {},
   "outputs": [
    {
     "data": {
      "text/html": [
       "<div>\n",
       "<style scoped>\n",
       "    .dataframe tbody tr th:only-of-type {\n",
       "        vertical-align: middle;\n",
       "    }\n",
       "\n",
       "    .dataframe tbody tr th {\n",
       "        vertical-align: top;\n",
       "    }\n",
       "\n",
       "    .dataframe thead th {\n",
       "        text-align: right;\n",
       "    }\n",
       "</style>\n",
       "<table border=\"1\" class=\"dataframe\">\n",
       "  <thead>\n",
       "    <tr style=\"text-align: right;\">\n",
       "      <th></th>\n",
       "      <th>s1</th>\n",
       "      <th>s2</th>\n",
       "      <th>s3</th>\n",
       "      <th>s4</th>\n",
       "      <th>c</th>\n",
       "      <th>f</th>\n",
       "    </tr>\n",
       "  </thead>\n",
       "  <tbody>\n",
       "    <tr>\n",
       "      <th>0</th>\n",
       "      <td>8.216941</td>\n",
       "      <td>-4.569241</td>\n",
       "      <td>0.129976</td>\n",
       "      <td>45.334072</td>\n",
       "      <td>119.763046</td>\n",
       "      <td>171.934538</td>\n",
       "    </tr>\n",
       "    <tr>\n",
       "      <th>1</th>\n",
       "      <td>1.392755</td>\n",
       "      <td>-4.604545</td>\n",
       "      <td>0.908322</td>\n",
       "      <td>31.572282</td>\n",
       "      <td>85.739150</td>\n",
       "      <td>123.807330</td>\n",
       "    </tr>\n",
       "    <tr>\n",
       "      <th>2</th>\n",
       "      <td>2.908187</td>\n",
       "      <td>-4.859351</td>\n",
       "      <td>0.107823</td>\n",
       "      <td>34.170677</td>\n",
       "      <td>94.862831</td>\n",
       "      <td>132.990542</td>\n",
       "    </tr>\n",
       "    <tr>\n",
       "      <th>3</th>\n",
       "      <td>9.220691</td>\n",
       "      <td>-4.273953</td>\n",
       "      <td>0.519201</td>\n",
       "      <td>32.629485</td>\n",
       "      <td>92.746338</td>\n",
       "      <td>134.972168</td>\n",
       "    </tr>\n",
       "    <tr>\n",
       "      <th>4</th>\n",
       "      <td>6.296141</td>\n",
       "      <td>-4.969454</td>\n",
       "      <td>0.705914</td>\n",
       "      <td>47.855211</td>\n",
       "      <td>126.702035</td>\n",
       "      <td>177.377046</td>\n",
       "    </tr>\n",
       "    <tr>\n",
       "      <th>...</th>\n",
       "      <td>...</td>\n",
       "      <td>...</td>\n",
       "      <td>...</td>\n",
       "      <td>...</td>\n",
       "      <td>...</td>\n",
       "      <td>...</td>\n",
       "    </tr>\n",
       "    <tr>\n",
       "      <th>995</th>\n",
       "      <td>6.658200</td>\n",
       "      <td>-4.922978</td>\n",
       "      <td>0.633689</td>\n",
       "      <td>38.070175</td>\n",
       "      <td>107.034267</td>\n",
       "      <td>148.407237</td>\n",
       "    </tr>\n",
       "    <tr>\n",
       "      <th>996</th>\n",
       "      <td>2.620035</td>\n",
       "      <td>-3.983911</td>\n",
       "      <td>0.703488</td>\n",
       "      <td>48.233986</td>\n",
       "      <td>114.959556</td>\n",
       "      <td>175.330038</td>\n",
       "    </tr>\n",
       "    <tr>\n",
       "      <th>997</th>\n",
       "      <td>9.012807</td>\n",
       "      <td>-3.690234</td>\n",
       "      <td>0.360063</td>\n",
       "      <td>28.405972</td>\n",
       "      <td>79.442575</td>\n",
       "      <td>122.385606</td>\n",
       "    </tr>\n",
       "    <tr>\n",
       "      <th>998</th>\n",
       "      <td>7.384629</td>\n",
       "      <td>-3.544970</td>\n",
       "      <td>0.078182</td>\n",
       "      <td>26.531450</td>\n",
       "      <td>73.014341</td>\n",
       "      <td>115.206492</td>\n",
       "    </tr>\n",
       "    <tr>\n",
       "      <th>999</th>\n",
       "      <td>0.745067</td>\n",
       "      <td>-3.540401</td>\n",
       "      <td>0.563811</td>\n",
       "      <td>20.354633</td>\n",
       "      <td>53.988774</td>\n",
       "      <td>90.038764</td>\n",
       "    </tr>\n",
       "  </tbody>\n",
       "</table>\n",
       "<p>1000 rows × 6 columns</p>\n",
       "</div>"
      ],
      "text/plain": [
       "           s1        s2        s3         s4           c           f\n",
       "0    8.216941 -4.569241  0.129976  45.334072  119.763046  171.934538\n",
       "1    1.392755 -4.604545  0.908322  31.572282   85.739150  123.807330\n",
       "2    2.908187 -4.859351  0.107823  34.170677   94.862831  132.990542\n",
       "3    9.220691 -4.273953  0.519201  32.629485   92.746338  134.972168\n",
       "4    6.296141 -4.969454  0.705914  47.855211  126.702035  177.377046\n",
       "..        ...       ...       ...        ...         ...         ...\n",
       "995  6.658200 -4.922978  0.633689  38.070175  107.034267  148.407237\n",
       "996  2.620035 -3.983911  0.703488  48.233986  114.959556  175.330038\n",
       "997  9.012807 -3.690234  0.360063  28.405972   79.442575  122.385606\n",
       "998  7.384629 -3.544970  0.078182  26.531450   73.014341  115.206492\n",
       "999  0.745067 -3.540401  0.563811  20.354633   53.988774   90.038764\n",
       "\n",
       "[1000 rows x 6 columns]"
      ]
     },
     "execution_count": 131,
     "metadata": {},
     "output_type": "execute_result"
    }
   ],
   "source": [
    "new_data_df = pd.DataFrame(new_data, columns = ['s1','s2','s3','s4','c','f'])\n",
    "new_data_df"
   ]
  },
  {
   "cell_type": "markdown",
   "metadata": {},
   "source": [
    "Based on the cell above, the numbers seem to be in line with the train data in task 1 but a more determined analysis needs to be conducted:"
   ]
  },
  {
   "cell_type": "code",
   "execution_count": 133,
   "metadata": {},
   "outputs": [
    {
     "data": {
      "text/html": [
       "<div>\n",
       "<style scoped>\n",
       "    .dataframe tbody tr th:only-of-type {\n",
       "        vertical-align: middle;\n",
       "    }\n",
       "\n",
       "    .dataframe tbody tr th {\n",
       "        vertical-align: top;\n",
       "    }\n",
       "\n",
       "    .dataframe thead th {\n",
       "        text-align: right;\n",
       "    }\n",
       "</style>\n",
       "<table border=\"1\" class=\"dataframe\">\n",
       "  <thead>\n",
       "    <tr style=\"text-align: right;\">\n",
       "      <th></th>\n",
       "      <th>count</th>\n",
       "      <th>mean</th>\n",
       "      <th>std</th>\n",
       "      <th>min</th>\n",
       "      <th>25%</th>\n",
       "      <th>50%</th>\n",
       "      <th>75%</th>\n",
       "      <th>max</th>\n",
       "    </tr>\n",
       "  </thead>\n",
       "  <tbody>\n",
       "    <tr>\n",
       "      <th>x1</th>\n",
       "      <td>160.0</td>\n",
       "      <td>4.712438</td>\n",
       "      <td>2.864573</td>\n",
       "      <td>0.005600</td>\n",
       "      <td>2.263625</td>\n",
       "      <td>4.498550</td>\n",
       "      <td>7.176775</td>\n",
       "      <td>9.955100</td>\n",
       "    </tr>\n",
       "    <tr>\n",
       "      <th>x2</th>\n",
       "      <td>160.0</td>\n",
       "      <td>-3.953631</td>\n",
       "      <td>0.593372</td>\n",
       "      <td>-5.000000</td>\n",
       "      <td>-4.438650</td>\n",
       "      <td>-3.970600</td>\n",
       "      <td>-3.466100</td>\n",
       "      <td>-3.000200</td>\n",
       "    </tr>\n",
       "    <tr>\n",
       "      <th>x3</th>\n",
       "      <td>160.0</td>\n",
       "      <td>0.498403</td>\n",
       "      <td>0.269256</td>\n",
       "      <td>0.025200</td>\n",
       "      <td>0.290625</td>\n",
       "      <td>0.486150</td>\n",
       "      <td>0.728175</td>\n",
       "      <td>0.965100</td>\n",
       "    </tr>\n",
       "    <tr>\n",
       "      <th>x4</th>\n",
       "      <td>160.0</td>\n",
       "      <td>34.763857</td>\n",
       "      <td>8.915345</td>\n",
       "      <td>20.002800</td>\n",
       "      <td>26.249875</td>\n",
       "      <td>35.590750</td>\n",
       "      <td>42.415025</td>\n",
       "      <td>49.995200</td>\n",
       "    </tr>\n",
       "    <tr>\n",
       "      <th>c</th>\n",
       "      <td>160.0</td>\n",
       "      <td>90.221242</td>\n",
       "      <td>18.264888</td>\n",
       "      <td>57.357117</td>\n",
       "      <td>73.668308</td>\n",
       "      <td>90.996986</td>\n",
       "      <td>106.224148</td>\n",
       "      <td>126.535945</td>\n",
       "    </tr>\n",
       "    <tr>\n",
       "      <th>f</th>\n",
       "      <td>160.0</td>\n",
       "      <td>137.027193</td>\n",
       "      <td>26.747671</td>\n",
       "      <td>90.129500</td>\n",
       "      <td>113.389912</td>\n",
       "      <td>137.797950</td>\n",
       "      <td>161.077187</td>\n",
       "      <td>186.236850</td>\n",
       "    </tr>\n",
       "  </tbody>\n",
       "</table>\n",
       "</div>"
      ],
      "text/plain": [
       "    count        mean        std        min         25%         50%  \\\n",
       "x1  160.0    4.712438   2.864573   0.005600    2.263625    4.498550   \n",
       "x2  160.0   -3.953631   0.593372  -5.000000   -4.438650   -3.970600   \n",
       "x3  160.0    0.498403   0.269256   0.025200    0.290625    0.486150   \n",
       "x4  160.0   34.763857   8.915345  20.002800   26.249875   35.590750   \n",
       "c   160.0   90.221242  18.264888  57.357117   73.668308   90.996986   \n",
       "f   160.0  137.027193  26.747671  90.129500  113.389912  137.797950   \n",
       "\n",
       "           75%         max  \n",
       "x1    7.176775    9.955100  \n",
       "x2   -3.466100   -3.000200  \n",
       "x3    0.728175    0.965100  \n",
       "x4   42.415025   49.995200  \n",
       "c   106.224148  126.535945  \n",
       "f   161.077187  186.236850  "
      ]
     },
     "execution_count": 133,
     "metadata": {},
     "output_type": "execute_result"
    }
   ],
   "source": [
    "train_data.describe().transpose()"
   ]
  },
  {
   "cell_type": "code",
   "execution_count": 134,
   "metadata": {},
   "outputs": [
    {
     "data": {
      "text/html": [
       "<div>\n",
       "<style scoped>\n",
       "    .dataframe tbody tr th:only-of-type {\n",
       "        vertical-align: middle;\n",
       "    }\n",
       "\n",
       "    .dataframe tbody tr th {\n",
       "        vertical-align: top;\n",
       "    }\n",
       "\n",
       "    .dataframe thead th {\n",
       "        text-align: right;\n",
       "    }\n",
       "</style>\n",
       "<table border=\"1\" class=\"dataframe\">\n",
       "  <thead>\n",
       "    <tr style=\"text-align: right;\">\n",
       "      <th></th>\n",
       "      <th>count</th>\n",
       "      <th>mean</th>\n",
       "      <th>std</th>\n",
       "      <th>min</th>\n",
       "      <th>25%</th>\n",
       "      <th>50%</th>\n",
       "      <th>75%</th>\n",
       "      <th>max</th>\n",
       "    </tr>\n",
       "  </thead>\n",
       "  <tbody>\n",
       "    <tr>\n",
       "      <th>s1</th>\n",
       "      <td>1000.0</td>\n",
       "      <td>5.094490</td>\n",
       "      <td>2.901264</td>\n",
       "      <td>0.013703</td>\n",
       "      <td>2.524648</td>\n",
       "      <td>5.136772</td>\n",
       "      <td>7.685824</td>\n",
       "      <td>9.979256</td>\n",
       "    </tr>\n",
       "    <tr>\n",
       "      <th>s2</th>\n",
       "      <td>1000.0</td>\n",
       "      <td>-4.013044</td>\n",
       "      <td>0.557758</td>\n",
       "      <td>-4.998759</td>\n",
       "      <td>-4.480675</td>\n",
       "      <td>-4.038734</td>\n",
       "      <td>-3.533838</td>\n",
       "      <td>-3.005971</td>\n",
       "    </tr>\n",
       "    <tr>\n",
       "      <th>s3</th>\n",
       "      <td>1000.0</td>\n",
       "      <td>0.491393</td>\n",
       "      <td>0.292304</td>\n",
       "      <td>0.001590</td>\n",
       "      <td>0.241028</td>\n",
       "      <td>0.485461</td>\n",
       "      <td>0.750462</td>\n",
       "      <td>0.999417</td>\n",
       "    </tr>\n",
       "    <tr>\n",
       "      <th>s4</th>\n",
       "      <td>1000.0</td>\n",
       "      <td>35.143414</td>\n",
       "      <td>8.756901</td>\n",
       "      <td>20.053961</td>\n",
       "      <td>27.124895</td>\n",
       "      <td>35.516021</td>\n",
       "      <td>42.636199</td>\n",
       "      <td>49.954977</td>\n",
       "    </tr>\n",
       "    <tr>\n",
       "      <th>c</th>\n",
       "      <td>1000.0</td>\n",
       "      <td>91.796623</td>\n",
       "      <td>18.158852</td>\n",
       "      <td>51.907606</td>\n",
       "      <td>76.763953</td>\n",
       "      <td>91.265161</td>\n",
       "      <td>106.947275</td>\n",
       "      <td>131.899995</td>\n",
       "    </tr>\n",
       "    <tr>\n",
       "      <th>f</th>\n",
       "      <td>1000.0</td>\n",
       "      <td>138.518210</td>\n",
       "      <td>26.354995</td>\n",
       "      <td>89.381249</td>\n",
       "      <td>115.193546</td>\n",
       "      <td>138.931653</td>\n",
       "      <td>161.068062</td>\n",
       "      <td>186.486909</td>\n",
       "    </tr>\n",
       "  </tbody>\n",
       "</table>\n",
       "</div>"
      ],
      "text/plain": [
       "     count        mean        std        min         25%         50%  \\\n",
       "s1  1000.0    5.094490   2.901264   0.013703    2.524648    5.136772   \n",
       "s2  1000.0   -4.013044   0.557758  -4.998759   -4.480675   -4.038734   \n",
       "s3  1000.0    0.491393   0.292304   0.001590    0.241028    0.485461   \n",
       "s4  1000.0   35.143414   8.756901  20.053961   27.124895   35.516021   \n",
       "c   1000.0   91.796623  18.158852  51.907606   76.763953   91.265161   \n",
       "f   1000.0  138.518210  26.354995  89.381249  115.193546  138.931653   \n",
       "\n",
       "           75%         max  \n",
       "s1    7.685824    9.979256  \n",
       "s2   -3.533838   -3.005971  \n",
       "s3    0.750462    0.999417  \n",
       "s4   42.636199   49.954977  \n",
       "c   106.947275  131.899995  \n",
       "f   161.068062  186.486909  "
      ]
     },
     "execution_count": 134,
     "metadata": {},
     "output_type": "execute_result"
    }
   ],
   "source": [
    "new_data_df.describe().transpose()"
   ]
  },
  {
   "cell_type": "markdown",
   "metadata": {},
   "source": [
    "A direct comparison can be done now by checking the mean, std, min and max values between the training data from task 1 and the new training data from task 4. The values are similar which means the sensor data is generated correctly and the c and f functions applied as stated in the task assignment. New features and labels need to be prepared:"
   ]
  },
  {
   "cell_type": "code",
   "execution_count": 135,
   "metadata": {},
   "outputs": [
    {
     "data": {
      "text/plain": [
       "0      171.934538\n",
       "1      123.807330\n",
       "2      132.990542\n",
       "3      134.972168\n",
       "4      177.377046\n",
       "          ...    \n",
       "995    148.407237\n",
       "996    175.330038\n",
       "997    122.385606\n",
       "998    115.206492\n",
       "999     90.038764\n",
       "Name: f, Length: 1000, dtype: float64"
      ]
     },
     "execution_count": 135,
     "metadata": {},
     "output_type": "execute_result"
    }
   ],
   "source": [
    "new_train_features = new_data_df.copy()\n",
    "\n",
    "new_train_labels = new_train_features[['c', 'f']].copy()\n",
    "\n",
    "\n",
    "new_train_features.pop('c')\n",
    "new_train_features.pop('f')"
   ]
  },
  {
   "cell_type": "markdown",
   "metadata": {},
   "source": [
    "A new model is defined with the same parameters as in task 1:"
   ]
  },
  {
   "cell_type": "code",
   "execution_count": 138,
   "metadata": {},
   "outputs": [],
   "source": [
    "dnn_model2 = tf.keras.Sequential([\n",
    "\n",
    "      layers.Dense(20, activation='selu'),\n",
    "      layers.Dense(20, activation='selu'),\n",
    "      layers.Dense(2)\n",
    "  ])\n",
    "\n",
    "dnn_model2.compile(loss='mean_absolute_error',\n",
    "                optimizer=tf.keras.optimizers.Adam(0.001))"
   ]
  },
  {
   "cell_type": "markdown",
   "metadata": {},
   "source": [
    "The model is trained with the same validation split and the same number of epochs 100."
   ]
  },
  {
   "cell_type": "code",
   "execution_count": 139,
   "metadata": {},
   "outputs": [
    {
     "name": "stdout",
     "output_type": "stream",
     "text": [
      "CPU times: user 12.1 s, sys: 2.72 s, total: 14.8 s\n",
      "Wall time: 13 s\n"
     ]
    }
   ],
   "source": [
    "%%time\n",
    "history = dnn_model2.fit(\n",
    "    new_train_features, new_train_labels,\n",
    "    validation_split=0.2,\n",
    "    verbose=0, epochs=100)"
   ]
  },
  {
   "cell_type": "markdown",
   "metadata": {},
   "source": [
    "As expected, the model reaches better loss in the same number of epochs."
   ]
  },
  {
   "cell_type": "code",
   "execution_count": 140,
   "metadata": {},
   "outputs": [
    {
     "data": {
      "image/png": "[encoded data removed]",
      "text/plain": [
       "<Figure size 432x288 with 1 Axes>"
      ]
     },
     "metadata": {
      "needs_background": "light"
     },
     "output_type": "display_data"
    }
   ],
   "source": [
    "def plot_loss(history):\n",
    "  plt.plot(history.history['loss'], label='loss')\n",
    "  plt.plot(history.history['val_loss'], label='val_loss')\n",
    "  plt.ylim([0, 10])\n",
    "  plt.xlabel('Epoch')\n",
    "  plt.ylabel('Error [MPG]')\n",
    "  plt.legend()\n",
    "  plt.grid(True)\n",
    "\n",
    "plot_loss(history)"
   ]
  },
  {
   "cell_type": "markdown",
   "metadata": {},
   "source": [
    "The loss is better than the model in task 1"
   ]
  },
  {
   "cell_type": "code",
   "execution_count": 141,
   "metadata": {},
   "outputs": [
    {
     "name": "stdout",
     "output_type": "stream",
     "text": [
      "2/2 [==============================] - 0s 3ms/step - loss: 0.2256\n"
     ]
    },
    {
     "data": {
      "text/plain": [
       "{'dnn_model_more_data': 0.22558288276195526}"
      ]
     },
     "execution_count": 141,
     "metadata": {},
     "output_type": "execute_result"
    }
   ],
   "source": [
    "test_results = {}\n",
    "\n",
    "test_results['dnn_model_more_data'] = dnn_model2.evaluate(\n",
    "    test_features, test_labels, verbose=1)\n",
    "test_results"
   ]
  },
  {
   "cell_type": "markdown",
   "metadata": {},
   "source": [
    "MSE on test data is lower as well."
   ]
  },
  {
   "cell_type": "code",
   "execution_count": 142,
   "metadata": {},
   "outputs": [
    {
     "name": "stdout",
     "output_type": "stream",
     "text": [
      "WARNING:tensorflow:6 out of the last 11 calls to <function Model.make_predict_function.<locals>.predict_function at 0x7f64faec5158> triggered tf.function retracing. Tracing is expensive and the excessive number of tracings could be due to (1) creating @tf.function repeatedly in a loop, (2) passing tensors with different shapes, (3) passing Python objects instead of tensors. For (1), please define your @tf.function outside of the loop. For (2), @tf.function has experimental_relax_shapes=True option that relaxes argument shapes that can avoid unnecessary retracing. For (3), please refer to https://www.tensorflow.org/guide/function#controlling_retracing and https://www.tensorflow.org/api_docs/python/tf/function for  more details.\n",
      "c MSE:0.2038\n",
      "f MSE:0.0096\n"
     ]
    }
   ],
   "source": [
    "test_predictions_more_data = dnn_model2.predict(test_features)\n",
    "print(\"c MSE:%.4f\" % mean_squared_error(test_labels['c'], test_predictions_more_data[:,0])) \n",
    "print(\"f MSE:%.4f\" % mean_squared_error(test_labels['f'], test_predictions_more_data[:,1]))"
   ]
  },
  {
   "cell_type": "markdown",
   "metadata": {},
   "source": [
    "The same chart with samples and predictions can be generated and it is clear that the new model follows the samples more closer."
   ]
  },
  {
   "cell_type": "code",
   "execution_count": 143,
   "metadata": {},
   "outputs": [
    {
     "data": {
      "image/png": "[encoded data removed]",
      "text/plain": [
       "<Figure size 432x288 with 1 Axes>"
      ]
     },
     "metadata": {
      "needs_background": "light"
     },
     "output_type": "display_data"
    }
   ],
   "source": [
    "x_ax = range(len(test_features))\n",
    "plt.scatter(x_ax, test_labels['c'],  s=6, label=\"c-test\")\n",
    "plt.plot(x_ax, test_predictions_more_data[:,0], label=\"c-pred\")\n",
    "plt.scatter(x_ax, test_labels['f'],  s=6, label=\"f-test\")\n",
    "plt.plot(x_ax, test_predictions_more_data[:,1], label=\"f-pred\")\n",
    "plt.legend()\n",
    "plt.show()"
   ]
  },
  {
   "cell_type": "markdown",
   "metadata": {},
   "source": [
    "The model is saved:"
   ]
  },
  {
   "cell_type": "code",
   "execution_count": 177,
   "metadata": {},
   "outputs": [
    {
     "name": "stdout",
     "output_type": "stream",
     "text": [
      "INFO:tensorflow:Assets written to: ./mymodel_more/assets\n"
     ]
    }
   ],
   "source": [
    "saved_model_path = dnn_model2.save(f\"./mymodel_more\", save_format='tf')"
   ]
  },
  {
   "cell_type": "markdown",
   "metadata": {},
   "source": [
    "Connection to the host from jupyter notebook in containeris done by using the address host.docker.internal. The predictions need to be compared first for the same samples in test data:"
   ]
  },
  {
   "cell_type": "code",
   "execution_count": 191,
   "metadata": {},
   "outputs": [
    {
     "name": "stdout",
     "output_type": "stream",
     "text": [
      "[87.1364441, 131.369186]:[88.8607941, 129.43309]\n",
      "[58.3016281, 87.8033676]:[57.3722534, 93.808548]\n",
      "[100.904274, 152.213913]:[104.267227, 146.896759]\n",
      "[113.086533, 170.709183]:[115.177742, 162.736557]\n",
      "[113.716797, 171.852097]:[115.494522, 167.66835]\n",
      "[72.5611038, 109.44326]:[71.0849838, 109.638748]\n",
      "[79.2571259, 119.966789]:[75.2575836, 127.285889]\n",
      "[89.241, 134.76593]:[90.1205139, 134.696472]\n",
      "[93.1929321, 140.976974]:[87.3772, 141.918793]\n",
      "[98.4156647, 148.536942]:[102.457314, 144.856644]\n",
      "[98.0200043, 148.130188]:[95.0638504, 147.967407]\n",
      "[80.166069, 120.703018]:[84.6109238, 118.590446]\n",
      "[80.9938889, 122.463112]:[80.7183762, 126.776108]\n",
      "[70.2096176, 106.023705]:[65.6957245, 109.36869]\n",
      "[108.260597, 163.691956]:[109.594765, 161.321747]\n",
      "[77.5820694, 116.737732]:[81.8689117, 111.565674]\n",
      "[78.9144897, 118.826302]:[81.7509, 114.938171]\n",
      "[89.1483536, 134.651123]:[84.9538269, 133.308258]\n",
      "[95.5348358, 144.078232]:[100.419991, 140.52533]\n",
      "[97.6582184, 147.310883]:[98.8071289, 143.601685]\n",
      "[95.5235672, 144.321991]:[93.1700516, 144.113]\n",
      "[72.3585815, 109.018829]:[73.6458588, 111.284515]\n",
      "[96.7313766, 145.956833]:[101.617889, 143.265182]\n",
      "[76.802124, 115.556213]:[81.5874176, 112.816101]\n",
      "[114.316338, 172.96344]:[108.385719, 169.995056]\n",
      "[100.469681, 151.978638]:[93.6334457, 150.839218]\n",
      "[70.2707901, 105.844658]:[70.82724, 106.472672]\n",
      "[93.6108551, 141.411911]:[90.3780212, 141.014343]\n",
      "[124.029831, 187.812988]:[119.16832, 184.476547]\n",
      "[93.1193619, 140.449768]:[95.3635406, 138.269669]\n",
      "[65.6405, 98.6065]:[71.6627808, 100.320114]\n",
      "[80.8167114, 122.232719]:[75.9402542, 127.523354]\n",
      "[100.183144, 151.256866]:[99.7375717, 148.847961]\n",
      "[58.1446419, 87.6263733]:[56.8513298, 94.1491165]\n",
      "[84.8241501, 127.80764]:[89.8903427, 126.528542]\n",
      "[117.916702, 178.656876]:[116.309578, 178.1539]\n",
      "[85.2402039, 128.698975]:[81.3689499, 128.860901]\n",
      "[105.825386, 159.812225]:[109.685837, 156.980255]\n",
      "[108.260857, 163.515778]:[107.126083, 158.018311]\n",
      "[57.2196503, 85.982933]:[62.5335121, 89.8368301]\n"
     ]
    }
   ],
   "source": [
    "import requests\n",
    "import json\n",
    "url1 = 'http://host.docker.internal:8501/v1/models/mymodel:predict'\n",
    "url2 = 'http://host.docker.internal:8501/v1/models/mymodel_more:predict'\n",
    "\n",
    "rows1 = []\n",
    "rows2 = []\n",
    "for index, row in test_features.iterrows():\n",
    "    \n",
    "    myobj = {'instances': [[row['x1'], row['x2'], row['x3'], row['x4']]]}\n",
    "\n",
    "    x1 = requests.post(url1, json = myobj)\n",
    "    x2 = requests.post(url2, json = myobj)\n",
    "    json_data1 = json.loads(x1.text)\n",
    "    json_data2 = json.loads(x2.text)\n",
    "    \n",
    "    rows1.append([json_data1['predictions'][0][0], json_data1['predictions'][0][1]])\n",
    "    rows2.append([json_data2['predictions'][0][0], json_data2['predictions'][0][1]])\n",
    "    \n",
    "    print(f\"{json_data1['predictions'][0]}:{json_data2['predictions'][0]}\")\n",
    "    \n",
    "test_predictions_ws_mymodel = pd.DataFrame(rows1, columns=[\"c\", \"f\"])\n",
    "test_predictions_ws_mymodel_more = pd.DataFrame(rows2, columns=[\"c\", \"f\"])"
   ]
  },
  {
   "cell_type": "markdown",
   "metadata": {},
   "source": [
    "The predictions are different, which means that we are indeed getting data from two different models. By comparing the errors"
   ]
  },
  {
   "cell_type": "code",
   "execution_count": 188,
   "metadata": {},
   "outputs": [
    {
     "name": "stdout",
     "output_type": "stream",
     "text": [
      "mymodel: c MSE:14.3489\n",
      "mymodel: f MSE:12.7634\n"
     ]
    }
   ],
   "source": [
    "print(\"mymodel: c MSE:%.4f\" % mean_squared_error(test_labels['c'], test_predictions_ws_mymodel['c'])) \n",
    "print(\"mymodel: f MSE:%.4f\" % mean_squared_error(test_labels['f'], test_predictions_ws_mymodel['f']))"
   ]
  },
  {
   "cell_type": "code",
   "execution_count": 189,
   "metadata": {},
   "outputs": [
    {
     "name": "stdout",
     "output_type": "stream",
     "text": [
      "mymodel_more: c MSE:0.2038\n",
      "mymodel_more: f MSE:0.0096\n"
     ]
    }
   ],
   "source": [
    "print(\"mymodel_more: c MSE:%.4f\" % mean_squared_error(test_labels['c'], test_predictions_ws_mymodel_more['c'])) \n",
    "print(\"mymodel_more: f MSE:%.4f\" % mean_squared_error(test_labels['f'], test_predictions_ws_mymodel_more['f']))"
   ]
  }
 ],
 "metadata": {
  "kernelspec": {
   "display_name": "Python 3",
   "language": "python",
   "name": "python3"
  },
  "language_info": {
   "codemirror_mode": {
    "name": "ipython",
    "version": 3
   },
   "file_extension": ".py",
   "mimetype": "text/x-python",
   "name": "python",
   "nbconvert_exporter": "python",
   "pygments_lexer": "ipython3",
   "version": "3.9.1"
  }
 },
 "nbformat": 4,
 "nbformat_minor": 2
}
